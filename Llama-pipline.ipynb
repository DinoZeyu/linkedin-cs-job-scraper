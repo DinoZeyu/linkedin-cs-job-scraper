{
 "cells": [
  {
   "cell_type": "code",
   "execution_count": null,
   "id": "528bde08",
   "metadata": {},
   "outputs": [],
   "source": [
    "import pandas as pd\n",
    "from tqdm import tqdm\n",
    "from joblib import Parallel, delayed\n",
    "from unsloth import FastLanguageModel"
   ]
  },
  {
   "cell_type": "code",
   "execution_count": null,
   "id": "f8e48c38",
   "metadata": {},
   "outputs": [],
   "source": [
    "# Login to Hugging Face to use LLaMA model\n",
    "\n",
    "from huggingface_hub import login\n",
    "login(\"hf_your_token_here\")"
   ]
  },
  {
   "cell_type": "code",
   "execution_count": null,
   "id": "70e081b4",
   "metadata": {},
   "outputs": [],
   "source": [
    "df = pd.read_csv(\"linkedin_jobs.csv\") \n",
    "text_columns = [\"Description“,”Responsibilities“,”QualificationsRequired“,”QualificationsPreferred“,”Requirements\"]"
   ]
  },
  {
   "cell_type": "code",
   "execution_count": null,
   "id": "7dc28a35",
   "metadata": {},
   "outputs": [],
   "source": [
    "model, tokenizer = FastLanguageModel.from_pretrained(\n",
    "    model_name = \"meta-llama/Meta-Llama-3-8B-Instruct\",\n",
    "    dtype = \"bfloat16\",\n",
    "    load_in_4bit = True,\n",
    "    device_map = \"auto\"\n",
    ")"
   ]
  },
  {
   "cell_type": "code",
   "execution_count": 3,
   "id": "101091e7",
   "metadata": {},
   "outputs": [],
   "source": [
    "# Prompt template for skill extraction\n",
    "\n",
    "def make_prompt(field_name, field_text):\n",
    "    return f\"\"\"\n",
    "You are an AI assistant that extracts **technical computer science skills** from job postings.\n",
    "\n",
    "Field: {field_name}\n",
    "Text: {field_text}\n",
    "\n",
    "Answer ONLY with a concise comma-separated list of skills (e.g., Python, TensorFlow, SQL).\n",
    "\"\"\""
   ]
  },
  {
   "cell_type": "code",
   "execution_count": null,
   "id": "27ab73f4",
   "metadata": {},
   "outputs": [],
   "source": [
    "def process_column(row_dict):\n",
    "    \"\"\"This function processes each row and extracts skills from specified text columns.\n",
    "       It processes each column individually and aggregates the results to avoid token limit issues.\n",
    "     \"\"\"\n",
    "    skills_all = []\n",
    "    for col in text_columns:\n",
    "        field_text = str(row_dict.get(col, \"\"))\n",
    "        if field_text.strip() and field_text.lower() != \"nan\":\n",
    "            # Apply prompt template to specific task\n",
    "            prompt = make_prompt(col, field_text)\n",
    "\n",
    "            # Model inference, we could change max_new_tokens and do_sample for more diverse results\n",
    "            inputs = tokenizer(prompt, return_tensors=\"pt\").to(model.device)\n",
    "            outputs = model.generate(**inputs, max_new_tokens=200, do_sample=False)\n",
    "\n",
    "            # Decode and clean up the output to extract skills\n",
    "            text = tokenizer.decode(outputs[0], skip_special_tokens=True)\n",
    "            skills = text.strip().split(\"\\n\")[-1]\n",
    "            skills_all.extend([s.strip() for s in skills.split(\",\") if s.strip()])\n",
    "\n",
    "    return \", \".join(sorted(set(skills_all)))\n",
    "\n",
    "\n",
    "# Parallel processing to speed up, n_jobs can be adjusted based on device capability\n",
    "results = Parallel(n_jobs=10, backend=\"threading\")(\n",
    "    delayed(process_column)(row) \n",
    "    for row in tqdm(df.to_dict(orient=\"records\"), desc=\"Extracting CS skills\")\n",
    ")"
   ]
  },
  {
   "cell_type": "code",
   "execution_count": null,
   "id": "2ee671f3",
   "metadata": {},
   "outputs": [],
   "source": [
    "df[\"Extracted_Skills\"] = results\n",
    "df.to_csv(\"Linkedin_Job_Requirements_LLama.csv\", index=False)"
   ]
  }
 ],
 "metadata": {
  "kernelspec": {
   "display_name": ".venv",
   "language": "python",
   "name": "python3"
  },
  "language_info": {
   "codemirror_mode": {
    "name": "ipython",
    "version": 3
   },
   "file_extension": ".py",
   "mimetype": "text/x-python",
   "name": "python",
   "nbconvert_exporter": "python",
   "pygments_lexer": "ipython3",
   "version": "3.9.6"
  }
 },
 "nbformat": 4,
 "nbformat_minor": 5
}
