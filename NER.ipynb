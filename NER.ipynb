{
 "cells": [
  {
   "cell_type": "code",
   "execution_count": 3,
   "id": "c6fc009f",
   "metadata": {},
   "outputs": [
    {
     "name": "stderr",
     "output_type": "stream",
     "text": [
      "/Users/50357691/Desktop/Job_Skill_Gap_Analysis/.venv/lib/python3.9/site-packages/urllib3/__init__.py:35: NotOpenSSLWarning: urllib3 v2 only supports OpenSSL 1.1.1+, currently the 'ssl' module is compiled with 'LibreSSL 2.8.3'. See: https://github.com/urllib3/urllib3/issues/3020\n",
      "  warnings.warn(\n"
     ]
    }
   ],
   "source": [
    "import pandas as pd\n",
    "import spacy\n",
    "from spacy.matcher import PhraseMatcher\n",
    "from pathlib import Path"
   ]
  },
  {
   "cell_type": "code",
   "execution_count": null,
   "id": "b1b55968",
   "metadata": {},
   "outputs": [],
   "source": [
    "GLOSSARY_XLSX = \"Computer_science_glossary_terms.xlsx\"             \n",
    "TERM_COL      = \"Computer Science Term\"         \n",
    "terms = pd.read_excel(GLOSSARY_XLSX, usecols=[TERM_COL])[TERM_COL].dropna().astype(str).tolist()"
   ]
  },
  {
   "cell_type": "code",
   "execution_count": 5,
   "id": "2bb88ea7",
   "metadata": {},
   "outputs": [],
   "source": [
    "nlp = spacy.blank(\"en\")                         \n",
    "\n",
    "# We use Spacy Matcher to do Name Entity Recognition \n",
    "# Now we build the metcher pipeline\n",
    "matcher = PhraseMatcher(nlp.vocab, attr=\"LOWER\")\n",
    "matcher.add(\"CS_TERMS\", [nlp.make_doc(t) for t in terms])\n",
    "\n",
    "def _to_text(x):\n",
    "    if isinstance(x, list):\n",
    "        return \"\\n\".join(map(str, x))\n",
    "    return \"\" if pd.isna(x) else str(x)\n",
    "\n",
    "def extract_terms(series: pd.Series) -> pd.Series:\n",
    "    texts = series.fillna(\"\").map(_to_text).tolist()\n",
    "    out = []\n",
    "    for doc in nlp.pipe(texts, batch_size=64):\n",
    "        found = {doc[s:e].text for _, s, e in matcher(doc)}\n",
    "        out.append(sorted(found, key=lambda z: (z.lower(), len(z))))\n",
    "    return pd.Series(out, index=series.index)"
   ]
  },
  {
   "cell_type": "code",
   "execution_count": null,
   "id": "c2f88d49",
   "metadata": {},
   "outputs": [],
   "source": [
    "import pandas as pd\n",
    "\n",
    "jobs = pd.read_csv(\"linkedin_jobs.csv\")\n",
    "\n",
    "cols_to_match = [\n",
    "    \"Description\",\n",
    "    \"Responsibilities\",\n",
    "    \"QualificationsRequired\",\n",
    "    \"QualificationsPreferred\",\n",
    "    \"Requirements\",\n",
    "]\n",
    "\n",
    "\n",
    "# Apply the matcher to job requirements, qulification, and so on to get corresponding CS skills\n",
    "for col in cols_to_match:\n",
    "    out_col = f\"CS_Terms_{col}\"\n",
    "    jobs[out_col] = extract_terms(jobs[col])  \n",
    "\n",
    "match_cols = [f\"CS_Terms_{c}\" for c in cols_to_match]\n",
    "jobs[\"CS_Terms\"] = jobs[match_cols].apply(\n",
    "    lambda row: sorted(set(sum((row[c] for c in match_cols if isinstance(row[c], list)), [])),\n",
    "                       key=lambda z: (z.lower(), len(z))),\n",
    "    axis=1\n",
    ")"
   ]
  },
  {
   "cell_type": "code",
   "execution_count": null,
   "id": "17524a1a",
   "metadata": {},
   "outputs": [],
   "source": [
    "jobs.to_csv(\"LinkedIn_NER.csv\", index=False)"
   ]
  }
 ],
 "metadata": {
  "kernelspec": {
   "display_name": ".venv",
   "language": "python",
   "name": "python3"
  },
  "language_info": {
   "codemirror_mode": {
    "name": "ipython",
    "version": 3
   },
   "file_extension": ".py",
   "mimetype": "text/x-python",
   "name": "python",
   "nbconvert_exporter": "python",
   "pygments_lexer": "ipython3",
   "version": "3.9.6"
  }
 },
 "nbformat": 4,
 "nbformat_minor": 5
}
